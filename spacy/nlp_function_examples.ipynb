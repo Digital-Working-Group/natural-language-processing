{
 "cells": [
  {
   "cell_type": "markdown",
   "id": "afb7f09b-7d4d-4a6e-9732-9fb561f71383",
   "metadata": {},
   "source": [
    "# Examples of NLP Features"
   ]
  },
  {
   "cell_type": "markdown",
   "id": "66c9f461-9de3-4309-8e6f-e627783a0895",
   "metadata": {},
   "source": [
    "This jupyter noteook contains example code to generate linguistic features with the functions in nlp_research.py"
   ]
  },
  {
   "cell_type": "markdown",
   "id": "bac1ffc7-c99f-4a62-b514-f9b328ba1abb",
   "metadata": {},
   "source": [
    "## Installation"
   ]
  },
  {
   "cell_type": "markdown",
   "id": "241a3f18-634e-414f-86d6-3fe07589ad7b",
   "metadata": {},
   "source": [
    "For specific installation instructions please see [this section](https://github.com/Digital-Working-Group/natural-language-processing/blob/nlp_research/spacy/README.md#installation) of the README"
   ]
  },
  {
   "cell_type": "markdown",
   "id": "4bac88e3-53c2-44ae-951e-4293fe369406",
   "metadata": {},
   "source": [
    "## `data_to_df()`"
   ]
  },
  {
   "cell_type": "markdown",
   "id": "60a5bc55-ac01-429d-a9ba-f03b2af8eb74",
   "metadata": {},
   "source": [
    "This function creates an easy way to access and visualize parts-of-speech tagging with spacy.\n",
    "The tags and values are stored in a pandas dataframe.\n",
    "Given a spacy pipeline and filepath, the function will output a dataframe showing parts-of-speech tags and their values."
   ]
  },
  {
   "cell_type": "code",
   "execution_count": 2,
   "id": "fdfbcb29-957d-418a-abd3-c65a6cba102b",
   "metadata": {},
   "outputs": [],
   "source": [
    "from pos_tagging import data_to_df"
   ]
  },
  {
   "cell_type": "code",
   "execution_count": 1,
   "id": "79a75c08-59e9-4d57-bb5f-6ca91293e0b7",
   "metadata": {},
   "outputs": [
    {
     "ename": "NameError",
     "evalue": "name 'data_to_df' is not defined",
     "output_type": "error",
     "traceback": [
      "\u001b[31m---------------------------------------------------------------------------\u001b[39m",
      "\u001b[31mNameError\u001b[39m                                 Traceback (most recent call last)",
      "\u001b[36mCell\u001b[39m\u001b[36m \u001b[39m\u001b[32mIn[1]\u001b[39m\u001b[32m, line 2\u001b[39m\n\u001b[32m      1\u001b[39m \u001b[38;5;28;01mimport\u001b[39;00m\u001b[38;5;250m \u001b[39m\u001b[34;01mspacy\u001b[39;00m\n\u001b[32m----> \u001b[39m\u001b[32m2\u001b[39m \u001b[43mdata_to_df\u001b[49m(nlp=spacy.load(\u001b[33m'\u001b[39m\u001b[33men_core_web_lg\u001b[39m\u001b[33m'\u001b[39m), file_path=\u001b[33m\"\u001b[39m\u001b[33msample_text/sample.txt\u001b[39m\u001b[33m\"\u001b[39m)\n",
      "\u001b[31mNameError\u001b[39m: name 'data_to_df' is not defined"
     ]
    }
   ],
   "source": [
    "import spacy\n",
    "data_to_df(nlp=spacy.load('en_core_web_lg'), file_path=\"sample_text/sample.txt\")"
   ]
  },
  {
   "cell_type": "markdown",
   "id": "b9bb6b40-945c-4f82-abfd-63b209a398e4",
   "metadata": {},
   "source": [
    "## `tag_ratio()`"
   ]
  },
  {
   "cell_type": "markdown",
   "id": "6ed214b8-a2b4-496c-a92a-3650a0c8bbd1",
   "metadata": {},
   "source": [
    "This function allows the user to tag parts of speech of the tokens in their text.\n",
    "The function then creates and outputs a dictionary containing all instances of the categories and on average how many are present per 100 words in the text."
   ]
  },
  {
   "cell_type": "code",
   "execution_count": 1,
   "id": "6b026291-b82a-4e13-8daa-72e55b567930",
   "metadata": {},
   "outputs": [],
   "source": [
    "import spacy\n",
    "from pos_tagging import tag_ratio"
   ]
  },
  {
   "cell_type": "markdown",
   "id": "93e21328-597c-422a-bd40-519073c774d5",
   "metadata": {},
   "source": [
    "### Tagging parts-of-speech:"
   ]
  },
  {
   "cell_type": "code",
   "execution_count": 12,
   "id": "46a9471f-9e15-408a-a5cb-577116132b4d",
   "metadata": {},
   "outputs": [
    {
     "data": {
      "text/plain": [
       "{'POS': defaultdict(int,\n",
       "             {'PRON': 15.151515151515152,\n",
       "              'VERB': 13.636363636363635,\n",
       "              'PUNCT': 12.121212121212121,\n",
       "              'SCONJ': 4.545454545454546,\n",
       "              'ADV': 7.575757575757576,\n",
       "              'ADP': 9.090909090909092,\n",
       "              'NOUN': 15.151515151515152,\n",
       "              'AUX': 3.0303030303030303,\n",
       "              'ADJ': 6.0606060606060606,\n",
       "              'DET': 7.575757575757576,\n",
       "              'PROPN': 1.5151515151515151,\n",
       "              'PART': 1.5151515151515151,\n",
       "              'CCONJ': 1.5151515151515151,\n",
       "              'NUM': 1.5151515151515151}),\n",
       " 'TAG': defaultdict(int,\n",
       "             {'PRP': 9.090909090909092,\n",
       "              'VBP': 4.545454545454546,\n",
       "              ',': 7.575757575757576,\n",
       "              'WRB': 4.545454545454546,\n",
       "              'RB': 9.090909090909092,\n",
       "              'IN': 7.575757575757576,\n",
       "              'PRP$': 3.0303030303030303,\n",
       "              'NN': 12.121212121212121,\n",
       "              'VBZ': 1.5151515151515151,\n",
       "              'JJ': 6.0606060606060606,\n",
       "              'DT': 7.575757575757576,\n",
       "              'NNS': 4.545454545454546,\n",
       "              'VB': 1.5151515151515151,\n",
       "              'WP': 1.5151515151515151,\n",
       "              '.': 4.545454545454546,\n",
       "              'VBD': 6.0606060606060606,\n",
       "              'RP': 1.5151515151515151,\n",
       "              'VBN': 1.5151515151515151,\n",
       "              'NNP': 1.5151515151515151,\n",
       "              'VBG': 1.5151515151515151,\n",
       "              'CC': 1.5151515151515151,\n",
       "              'CD': 1.5151515151515151})}"
      ]
     },
     "execution_count": 12,
     "metadata": {},
     "output_type": "execute_result"
    }
   ],
   "source": [
    "tag_ratio(nlp=spacy.load('en_core_web_lg'), file_path=\"sample_text/sample.txt\", amount=100)"
   ]
  },
  {
   "cell_type": "markdown",
   "id": "197e1535-87aa-4e9a-8109-1285e2a7a70a",
   "metadata": {},
   "source": [
    "## `stats_proportion_coordinators()`"
   ]
  },
  {
   "cell_type": "markdown",
   "id": "32cf0f26-3610-4778-9561-03e0ac9191c5",
   "metadata": {},
   "source": [
    "This function takes in a natural language processor and file path. It calls stats_proportion_part_of_speech with specified kwargs to determine mean, min, max, and standard deviation of the proportion of coordinators in a sentence."
   ]
  },
  {
   "cell_type": "code",
   "execution_count": 2,
   "id": "e178ab75-aa18-4ff6-9067-18047961300d",
   "metadata": {},
   "outputs": [],
   "source": [
    "from pos_tagging import stats_proportion_coordinators"
   ]
  },
  {
   "cell_type": "code",
   "execution_count": 7,
   "id": "6ce57645-e1c8-46c1-a1e9-4e9d7361afa7",
   "metadata": {},
   "outputs": [
    {
     "name": "stdout",
     "output_type": "stream",
     "text": [
      "The following is a dictionary containing te mean, min, max, and standard deviation of the proprtion of coordinators in a sentence:\n"
     ]
    },
    {
     "data": {
      "text/plain": [
       "{'mean': 0.015151515151515152,\n",
       " 'max': 0.045454545454545456,\n",
       " 'min': 0.0,\n",
       " 'std': 0.0262431940540739}"
      ]
     },
     "execution_count": 7,
     "metadata": {},
     "output_type": "execute_result"
    }
   ],
   "source": [
    "print(\"The following is a dictionary containing the mean, min, max, and standard deviation of the proportion of coordinators in a sentence:\")\n",
    "stats_proportion_coordinators(nlp=spacy.load('en_core_web_lg'), file_path=\"sample_text/sample.txt\")"
   ]
  },
  {
   "cell_type": "markdown",
   "id": "e2f21e7d-9f90-470d-a169-07b884139b66",
   "metadata": {},
   "source": [
    "## `stats_proportion_auxiliaries()`"
   ]
  },
  {
   "cell_type": "markdown",
   "id": "0476c940-2bf1-400c-9895-a33cc43aab09",
   "metadata": {},
   "source": [
    "This function takes in a natural language processor and file path. It calls stats_proportion_part_of_speech with specified kwargs to determine mean, min, max, and standard deviation of the proportion of auxiliaries in a sentence."
   ]
  },
  {
   "cell_type": "code",
   "execution_count": 11,
   "id": "384dc145-546e-4c77-85aa-9f1a480e7b5e",
   "metadata": {},
   "outputs": [],
   "source": [
    "from pos_tagging import stats_proportion_auxiliaries"
   ]
  },
  {
   "cell_type": "code",
   "execution_count": 19,
   "id": "6f7866e9-b202-4408-813e-81928c744b25",
   "metadata": {},
   "outputs": [
    {
     "name": "stdout",
     "output_type": "stream",
     "text": [
      "The following is a dictionary containing the mean, min, max, and standard deviation of the proportion of auxiliaries to words in a sentence:\n"
     ]
    },
    {
     "data": {
      "text/plain": [
       "{'mean': 0.015151515151515152,\n",
       " 'max': 0.045454545454545456,\n",
       " 'min': 0.0,\n",
       " 'std': 0.0262431940540739}"
      ]
     },
     "execution_count": 19,
     "metadata": {},
     "output_type": "execute_result"
    }
   ],
   "source": [
    "print(\"The following is a dictionary containing the mean, min, max, and standard deviation of the proportion of auxiliaries to words in a sentence:\")\n",
    "stats_proportion_auxiliaries(nlp=spacy.load('en_core_web_lg'), file_path=\"sample_text/sample.txt\")"
   ]
  },
  {
   "cell_type": "markdown",
   "id": "2abaf5a8-5f3d-47f5-913c-f603e42172c6",
   "metadata": {},
   "source": [
    "## `stats_proportion_adjectives()`"
   ]
  },
  {
   "cell_type": "markdown",
   "id": "2b8f6f68-2c8c-4a14-a516-1ed1ba726578",
   "metadata": {},
   "source": [
    "This function takes in a natural language processor and file path. It calls stats_proportion_part_of_speech with specified kwargs to determine mean, min, max, and standard deviation of the proportion of adjectives in a sentence."
   ]
  },
  {
   "cell_type": "code",
   "execution_count": 20,
   "id": "8aceb612-6c41-475d-a27b-567ed396472c",
   "metadata": {},
   "outputs": [],
   "source": [
    "from pos_tagging import stats_proportion_adjectives"
   ]
  },
  {
   "cell_type": "code",
   "execution_count": 21,
   "id": "861c4e98-4939-402c-a7bc-e791c505badc",
   "metadata": {},
   "outputs": [
    {
     "name": "stdout",
     "output_type": "stream",
     "text": [
      "The following is a dictionary containing the mean, min, max, and standard deviation of the proportion of adjectives to words in a sentence:\n"
     ]
    },
    {
     "data": {
      "text/plain": [
       "{'mean': 0.0722943722943723,\n",
       " 'max': 0.1,\n",
       " 'min': 0.045454545454545456,\n",
       " 'std': 0.027283032478941528}"
      ]
     },
     "execution_count": 21,
     "metadata": {},
     "output_type": "execute_result"
    }
   ],
   "source": [
    "print(\"The following is a dictionary containing the mean, min, max, and standard deviation of the proportion of adjectives to words in a sentence:\")\n",
    "stats_proportion_adjectives(nlp=spacy.load('en_core_web_lg'), file_path=\"sample_text/sample.txt\")"
   ]
  },
  {
   "cell_type": "markdown",
   "id": "29ad86b3-f39a-41b8-b71b-444342dd02c9",
   "metadata": {},
   "source": [
    "## `stats_proportion_subjects()`"
   ]
  },
  {
   "cell_type": "markdown",
   "id": "2f8031b5-7e50-4eec-959a-b29bcb9a53ce",
   "metadata": {},
   "source": [
    "This function takes in a natural language processor and file path. It calls stats_proportion_part_of_speech with specified kwargs to determine mean, min, max, and standard deviation of the proportion of subjects in a sentence."
   ]
  },
  {
   "cell_type": "code",
   "execution_count": 22,
   "id": "0e1a39a1-1d41-49a7-961d-5fa5ba7d5829",
   "metadata": {},
   "outputs": [],
   "source": [
    "from pos_tagging import stats_proportion_subjects"
   ]
  },
  {
   "cell_type": "code",
   "execution_count": 23,
   "id": "728aaf94-a410-4dd0-ad21-aa9b3c579aa2",
   "metadata": {},
   "outputs": [
    {
     "name": "stdout",
     "output_type": "stream",
     "text": [
      "The following is a dictionary containing the mean, min, max, and standard deviation of the proportion of subjects to words in a sentence:\n"
     ]
    },
    {
     "data": {
      "text/plain": [
       "{'mean': 0.0722943722943723,\n",
       " 'max': 0.1,\n",
       " 'min': 0.045454545454545456,\n",
       " 'std': 0.027283032478941528}"
      ]
     },
     "execution_count": 23,
     "metadata": {},
     "output_type": "execute_result"
    }
   ],
   "source": [
    "print(\"The following is a dictionary containing the mean, min, max, and standard deviation of the proportion of subjects to words in a sentence:\")\n",
    "stats_proportion_adjectives(nlp=spacy.load('en_core_web_lg'), file_path=\"sample_text/sample.txt\")"
   ]
  },
  {
   "cell_type": "markdown",
   "id": "5c4e4129-8503-431e-81b8-b65da598b114",
   "metadata": {},
   "source": [
    "## `num_tense_inflected_verbs()`"
   ]
  },
  {
   "cell_type": "markdown",
   "id": "ce330ba7-9158-4f56-8cd7-9a3b64fe26f3",
   "metadata": {},
   "source": [
    "This function takes in a natural language processor, file_path, and per word amount. It loads the desired pipeline as a natural language processor and uses this to create a spacy doc object version of the file provided. \n",
    "The function then loops through the tokens in the text, filtered using `token.is_alpha` to ignore punctuation and digits. It calculates the ratio of tense inflected verbs to total words in the text, and outputs on average how many tense inflected verbs are present per specified word amount (by default: 100). \n",
    "Tense inflected verbs are considered to be verbs in past or present tense, and modal auxiliaries."
   ]
  },
  {
   "cell_type": "code",
   "execution_count": 13,
   "id": "80507272-78ec-4399-b4f9-7b3ed8e46d60",
   "metadata": {},
   "outputs": [],
   "source": [
    "from syntactic_complexity import num_tense_inflected_verbs"
   ]
  },
  {
   "cell_type": "code",
   "execution_count": 15,
   "id": "38e62c38-28a1-48a8-a9b3-09940500d921",
   "metadata": {},
   "outputs": [
    {
     "name": "stdout",
     "output_type": "stream",
     "text": [
      "The following represents the average number of tenseinflected verbs present per 100 words of the given text:\n"
     ]
    },
    {
     "data": {
      "text/plain": [
       "14.285714285714285"
      ]
     },
     "execution_count": 15,
     "metadata": {},
     "output_type": "execute_result"
    }
   ],
   "source": [
    "print(\"The following represents the average number of tenseinflected verbs present per 100 words of the given text:\")\n",
    "num_tense_inflected_verbs(nlp=spacy.load('en_core_web_lg'), file_path=\"sample_text/sample.txt\", amount=100)"
   ]
  },
  {
   "cell_type": "markdown",
   "id": "f59ca49c-fda8-4ccd-a9ad-4db245c58224",
   "metadata": {},
   "source": [
    "## `calculate_idea_density()`"
   ]
  },
  {
   "cell_type": "markdown",
   "id": "56c53fe5-310c-4338-b71e-4822f4d98743",
   "metadata": {},
   "source": [
    "This function takes in an nlp and filepath and transforms into a spacy doc object, as before. The function then calculates and outputs the average idea density per sentence in the document. Idea density is defined as te number of propositions(verbs, adjectives, adverbs, prepositions, and conjunctions) divided by the number of words in a sentence."
   ]
  },
  {
   "cell_type": "code",
   "execution_count": 17,
   "id": "3df592c0-30ea-4cb5-bbee-2036463cbf67",
   "metadata": {},
   "outputs": [],
   "source": [
    "from semantic_complexity import calculate_idea_density"
   ]
  },
  {
   "cell_type": "code",
   "execution_count": 19,
   "id": "7e6db0a2-e4e4-49d0-92c8-da3f14fc2f57",
   "metadata": {},
   "outputs": [
    {
     "name": "stdout",
     "output_type": "stream",
     "text": [
      "The following represents the average idea density per sentence in the given text:\n"
     ]
    },
    {
     "data": {
      "text/plain": [
       "[(\"You know, when I think back on my life, it's funny how the little things really shape who you become.\",\n",
       "  0.55),\n",
       " ('I grew up in this small town called Ridgewood, tucked away in the countryside.',\n",
       "  0.5714285714285714),\n",
       " (\"It wasn't much just rolling hills, a couple of farms, and one main street with a diner where everyone knew your name.\",\n",
       "  0.4090909090909091)]"
      ]
     },
     "execution_count": 19,
     "metadata": {},
     "output_type": "execute_result"
    }
   ],
   "source": [
    "print(\"The following represents the average idea density per sentence in the given text:\")\n",
    "calculate_idea_density(nlp=spacy.load('en_core_web_lg'), file_path=\"sample_text/sample.txt\")"
   ]
  },
  {
   "cell_type": "markdown",
   "id": "1e87f737-d693-4f72-83ee-30becc17b10a",
   "metadata": {},
   "source": [
    "## `abstractness()`"
   ]
  },
  {
   "cell_type": "markdown",
   "id": "1b34a040-472d-4120-87e5-d2225b70319e",
   "metadata": {},
   "source": [
    "This function calls `generate_noun_feature()` with specified kwargs. This function finds the abstractness value corresponding to each noun in the text utilizing a pre-existing dataset, and averages these values. The function outputs the average abstractness value across all nouns in the text.\n",
    "The dataset values are on a five point scale, going from abstract to concrete. For the purpose of this feature, the scale is inverted. More details on the dataset please see [this article](https://link.springer.com/article/10.3758/s13428-013-0403-5#Sec10)"
   ]
  },
  {
   "cell_type": "code",
   "execution_count": 20,
   "id": "4cab56fa-48b9-469d-9066-8d8e41376e9f",
   "metadata": {},
   "outputs": [],
   "source": [
    "from semantic_complexity import abstractness"
   ]
  },
  {
   "cell_type": "code",
   "execution_count": 26,
   "id": "f6860867-dfa1-4b13-8bb4-da14336aa4e6",
   "metadata": {},
   "outputs": [
    {
     "name": "stdout",
     "output_type": "stream",
     "text": [
      "The following represents the average abstractness value of all words in the text:\n"
     ]
    },
    {
     "data": {
      "text/plain": [
       "0.2504803239958748"
      ]
     },
     "execution_count": 26,
     "metadata": {},
     "output_type": "execute_result"
    }
   ],
   "source": [
    "print(\"The following represents the average abstractness value of all words in the text:\")\n",
    "abstractness(nlp=spacy.load('en_core_web_lg'), file_path=\"sample_text/sample.txt\")\n"
   ]
  },
  {
   "cell_type": "markdown",
   "id": "9b8b56b2-1ef7-44e9-8ee0-687c8fe5c567",
   "metadata": {},
   "source": [
    "## `semantic_ambiguity()`"
   ]
  },
  {
   "cell_type": "markdown",
   "id": "85b061bf-e980-477d-855c-f2b340d99397",
   "metadata": {},
   "source": [
    "This function calls `generate_noun_feature()` with specified kwargs. This function finds the semantic ambiguity value corresponding to each noun in the text utilizing a pre-existing dataset, and averages these values. The function outputs the average semantic ambiguity value across all nouns in the text.\n",
    "The dataset value is based on a measure that considers words that appear in a wide range of contexts on diverse topics more sematically diverse than those that appear in a restricted set of similar contexts. More details on the methods of calculation are present in [this article](https://link.springer.com/article/10.3758/s13428-012-0278-x#SecESM1)."
   ]
  },
  {
   "cell_type": "code",
   "execution_count": 24,
   "id": "8c7a1011-c551-4b30-bb34-740090e1d624",
   "metadata": {},
   "outputs": [],
   "source": [
    "from semantic_complexity import semantic_ambiguity"
   ]
  },
  {
   "cell_type": "code",
   "execution_count": 25,
   "id": "bc7df882-75d7-4dd3-8445-baea58989712",
   "metadata": {},
   "outputs": [
    {
     "name": "stdout",
     "output_type": "stream",
     "text": [
      "The following represents the average semantic ambiguity value for all words in the provided text:\n"
     ]
    },
    {
     "data": {
      "text/plain": [
       "1.822231297208903"
      ]
     },
     "execution_count": 25,
     "metadata": {},
     "output_type": "execute_result"
    }
   ],
   "source": [
    "print(\"The following represents the average semantic ambiguity value for all words in the provided text:\")\n",
    "semantic_ambiguity(nlp=spacy.load('en_core_web_lg'), file_path=\"sample_text/test.txt\")"
   ]
  },
  {
   "cell_type": "markdown",
   "id": "b51e54f9-be11-4429-87dd-4d2c5a5ad68a",
   "metadata": {},
   "source": [
    "## `word_frequency()`"
   ]
  },
  {
   "cell_type": "markdown",
   "id": "49b53573-e9dd-48d6-a16e-2cb90181cae9",
   "metadata": {},
   "source": [
    "This function calls `generate_noun_feature()` with specified kwargs. This function finds the word frequency value corresponding to each noun in the text utilizing a pre-existing dataset, and averages these values. The function outputs the average word frequency value across all nouns in the text. More details on the dataset values are present in [this article](https://link.springer.com/article/10.3758/BRM.41.4.977#SecESM1)."
   ]
  },
  {
   "cell_type": "code",
   "execution_count": 27,
   "id": "07829a30-8527-44b5-811a-c30b5905d7ab",
   "metadata": {},
   "outputs": [],
   "source": [
    "from semantic_complexity import word_frequency"
   ]
  },
  {
   "cell_type": "code",
   "execution_count": 29,
   "id": "3c4ef2b4-04e6-4e5a-8278-d11c8d5542b7",
   "metadata": {},
   "outputs": [
    {
     "name": "stdout",
     "output_type": "stream",
     "text": [
      "the following represents the average word frequency value across all words in the given text:\n"
     ]
    },
    {
     "data": {
      "text/plain": [
       "3.5944582706872614"
      ]
     },
     "execution_count": 29,
     "metadata": {},
     "output_type": "execute_result"
    }
   ],
   "source": [
    "print(\"the following represents the average word frequency value across all words in the given text:\")\n",
    "word_frequency(nlp=spacy.load('en_core_web_lg'), file_path=\"sample_text/sample.txt\")"
   ]
  },
  {
   "cell_type": "markdown",
   "id": "43deb445-44b8-497a-b4ea-124dc35c8a98",
   "metadata": {},
   "source": [
    "## `word_prevalence()`"
   ]
  },
  {
   "cell_type": "markdown",
   "id": "79d4824a-f32c-4056-8f1e-07b31c092f2d",
   "metadata": {},
   "source": [
    "This function calls `generate_noun_feature()` with specified kwargs. This function finds the word prevalence value corresponding to each noun in the text utilizing a pre-existing dataset, and averages these values. The function outputs the average word prevalence value across all nouns in the text.  More information on dataset values can be found in [this article](https://link.springer.com/article/10.3758/s13428-018-1077-9#Sec9)."
   ]
  },
  {
   "cell_type": "code",
   "execution_count": 30,
   "id": "5d85085c-b606-4a09-b254-3457a5c64309",
   "metadata": {},
   "outputs": [],
   "source": [
    "from semantic_complexity import word_prevalence"
   ]
  },
  {
   "cell_type": "code",
   "execution_count": 32,
   "id": "ba1b4ca5-65d4-4812-b825-28ef3b660fbf",
   "metadata": {},
   "outputs": [
    {
     "name": "stdout",
     "output_type": "stream",
     "text": [
      "The following represents the average word prevalence value across all words in the text:\n"
     ]
    },
    {
     "data": {
      "text/plain": [
       "2.379690672413036"
      ]
     },
     "execution_count": 32,
     "metadata": {},
     "output_type": "execute_result"
    }
   ],
   "source": [
    "print(\"The following represents the average word prevalence value across all words in the text:\")\n",
    "word_prevalence(nlp=spacy.load('en_core_web_lg'), file_path=\"sample_text/sample.txt\")"
   ]
  },
  {
   "cell_type": "markdown",
   "id": "db4b22db-f092-49b7-9577-138296e0a83b",
   "metadata": {},
   "source": [
    "## `word_familiarity()`"
   ]
  },
  {
   "cell_type": "markdown",
   "id": "bcb6a167-d010-4979-b3f7-3dffa544dd7b",
   "metadata": {},
   "source": [
    "This function calls `generate_noun_feature()` with specified kwargs. This function finds the word familiarity value corresponding to each noun in the text utilizing a pre-existing dataset, and averages these values. The function outputs the average word familiarity value across all nouns in the text. More information on these values can be found in [this article](https://link.springer.com/article/10.3758/s13428-018-1077-9#Sec9)."
   ]
  },
  {
   "cell_type": "code",
   "execution_count": 33,
   "id": "45f26d96-faed-457e-b377-07a0c9e56c72",
   "metadata": {},
   "outputs": [],
   "source": [
    "from semantic_complexity import word_familiarity"
   ]
  },
  {
   "cell_type": "code",
   "execution_count": 34,
   "id": "6af8f33e-6625-40ab-b82a-345aff5425cf",
   "metadata": {},
   "outputs": [
    {
     "name": "stdout",
     "output_type": "stream",
     "text": [
      "The following represents the average word familiarity value across all words in the given text:\n"
     ]
    },
    {
     "data": {
      "text/plain": [
       "0.9958983699540903"
      ]
     },
     "execution_count": 34,
     "metadata": {},
     "output_type": "execute_result"
    }
   ],
   "source": [
    "print(\"The following represents the average word familiarity value across all words in the given text:\")\n",
    "word_familiarity(nlp=spacy.load('en_core_web_lg'), file_path=\"sample_text/sample.txt\")"
   ]
  },
  {
   "cell_type": "markdown",
   "id": "88a804fb-5edd-4028-8a68-28c209cf6562",
   "metadata": {},
   "source": [
    "## `age_of_acquisition()`"
   ]
  },
  {
   "cell_type": "markdown",
   "id": "cb335f51-a9d1-4fed-9265-6e83208755a1",
   "metadata": {},
   "source": [
    "This function calls `generate_noun_feature()` with specified kwargs. This function finds the age of acquisition value corresponding to each noun in the text utilizing a pre-existing dataset, and averages these values. The function outputs the average age of acquisition value across all nouns in the text. The value is taken from a dataset, more information on this value can be found in [this article](https://link.springer.com/article/10.3758/s13428-018-1077-9)."
   ]
  },
  {
   "cell_type": "code",
   "execution_count": 35,
   "id": "25f99c53-e32e-4555-bb72-42edafac4507",
   "metadata": {},
   "outputs": [],
   "source": [
    "from semantic_complexity import age_of_acquisition"
   ]
  },
  {
   "cell_type": "code",
   "execution_count": 37,
   "id": "cb293dbb-7d66-477c-8b8c-e9e636c2436d",
   "metadata": {},
   "outputs": [
    {
     "name": "stdout",
     "output_type": "stream",
     "text": [
      "The following represents the average age of aquisition value across all words in the text:\n"
     ]
    },
    {
     "data": {
      "text/plain": [
       "5.427060742016943"
      ]
     },
     "execution_count": 37,
     "metadata": {},
     "output_type": "execute_result"
    }
   ],
   "source": [
    "print(\"The following represents the average age of aquisition value across all words in the text:\")\n",
    "age_of_acquisition(nlp=spacy.load('en_core_web_lg'), file_path=\"sample_text/sample.txt\")"
   ]
  },
  {
   "cell_type": "markdown",
   "id": "b3a49ae5-b188-4d54-9bde-3eb5e3d3eb1f",
   "metadata": {},
   "source": [
    "## `nonword_frequency()`"
   ]
  },
  {
   "cell_type": "markdown",
   "id": "d686fed8-3f54-4b08-9d36-91684380f9e1",
   "metadata": {},
   "source": [
    "This function takes in a natural language processor, filepath, dataset path, and per word amount. It uses the dataset to find all occurrences of nonwords in the text. The function outputs, on average, how many nonwords are present per 100 words. Non words are defined as groupings of letters that do not form a valid English word such as \"jjksj\". Note: this feature can confuse uncommon proper nouns with non words. "
   ]
  },
  {
   "cell_type": "code",
   "execution_count": 38,
   "id": "2bb6308b-4173-4dc0-96fd-49718b82ffcb",
   "metadata": {},
   "outputs": [],
   "source": [
    "from syntactic_errors import nonword_frequency"
   ]
  },
  {
   "cell_type": "code",
   "execution_count": 39,
   "id": "09184d4a-d344-4600-86f7-ea819642fb47",
   "metadata": {},
   "outputs": [
    {
     "name": "stdout",
     "output_type": "stream",
     "text": [
      "The following represents the average number of nonwords per 100 words in the text:\n"
     ]
    },
    {
     "data": {
      "text/plain": [
       "1.0186757215619695"
      ]
     },
     "execution_count": 39,
     "metadata": {},
     "output_type": "execute_result"
    }
   ],
   "source": [
    "print(\"The following represents the average number of nonwords per 100 words in the text:\")\n",
    "nonword_frequency(nlp=spacy.load('en_core_web_lg'), file_path=\"sample_text/contains_nonwords.txt\", dataset_fp=\"words_alpha.txt\", amount=100)"
   ]
  },
  {
   "cell_type": "markdown",
   "id": "8d78aaa8-1ff4-4ced-9424-4b9d96498e55",
   "metadata": {},
   "source": [
    "## `avg_num_nonwords()`"
   ]
  },
  {
   "cell_type": "markdown",
   "id": "8c41ffd2-a96c-48c2-9796-bcc50664082e",
   "metadata": {},
   "source": [
    "This function is an alternative way of counting non-words. It takes in a natural language processor, filepath, and word amount. It counts number of nonwords by checking if words are in spaCy's vocabulary, and returns the number of nonwords present per word amount."
   ]
  },
  {
   "cell_type": "code",
   "execution_count": 4,
   "id": "242e8c1c-b9a2-431b-95ef-c05bf28bb931",
   "metadata": {},
   "outputs": [],
   "source": [
    "from syntactic_errors import avg_num_nonwords"
   ]
  },
  {
   "cell_type": "code",
   "execution_count": 6,
   "id": "24878267-9e5a-4285-89d8-a40e8a6b8d6f",
   "metadata": {},
   "outputs": [
    {
     "name": "stdout",
     "output_type": "stream",
     "text": [
      "The following represents the average number of nonwords per 100 words in the text:\n"
     ]
    },
    {
     "data": {
      "text/plain": [
       "0.5093378607809848"
      ]
     },
     "execution_count": 6,
     "metadata": {},
     "output_type": "execute_result"
    }
   ],
   "source": [
    "print(\"The following represents the average number of nonwords per 100 words in the text:\")\n",
    "avg_num_nonwords(nlp=spacy.load('en_core_web_lg'), file_path=\"sample_text/contains_nonwords.txt\", amount=100)"
   ]
  },
  {
   "cell_type": "markdown",
   "id": "ace8813c-d389-4c27-8c7f-82d7308ff6f6",
   "metadata": {},
   "source": [
    "## `sentence_lengths()`"
   ]
  },
  {
   "cell_type": "markdown",
   "id": "57e50d7d-fdcd-4356-928f-19ccd88d59ec",
   "metadata": {},
   "source": [
    "This function takes in a natural language processor and a filepath. It calculates the length of each sentence and returns a list of sentence lengths."
   ]
  },
  {
   "cell_type": "code",
   "execution_count": 43,
   "id": "557b0d89-5e69-4228-8be0-ecfb99485591",
   "metadata": {},
   "outputs": [],
   "source": [
    "from syntactic_complexity import sentence_lengths"
   ]
  },
  {
   "cell_type": "code",
   "execution_count": 45,
   "id": "75ba1cd7-fec3-42a3-b007-bdc94517f259",
   "metadata": {},
   "outputs": [
    {
     "name": "stdout",
     "output_type": "stream",
     "text": [
      "The following represents a list of sentence lengths in the document:\n"
     ]
    },
    {
     "data": {
      "text/plain": [
       "[20, 14, 22]"
      ]
     },
     "execution_count": 45,
     "metadata": {},
     "output_type": "execute_result"
    }
   ],
   "source": [
    "print(\"The following represents a list of sentence lengths in the document:\")\n",
    "sentence_lengths(nlp=spacy.load('en_core_web_lg'), file_path=\"sample_text/sample.txt\")\n"
   ]
  },
  {
   "cell_type": "markdown",
   "id": "305ec6c0-412a-47d4-bddd-e29964295f43",
   "metadata": {},
   "source": [
    "## `most_frequent_word()`"
   ]
  },
  {
   "cell_type": "markdown",
   "id": "8b6757f8-e272-452c-83bd-3434b6dd9d97",
   "metadata": {},
   "source": [
    "This function takes in a natural language processor and a filepath. It calculates and returns the most commonly occurring word and how many times it appears in the text. "
   ]
  },
  {
   "cell_type": "code",
   "execution_count": 47,
   "id": "70b6a7ff-a888-4da9-a55b-2ff79cb2fb6b",
   "metadata": {},
   "outputs": [],
   "source": [
    "from lexical_repetition import most_frequent_word"
   ]
  },
  {
   "cell_type": "code",
   "execution_count": 48,
   "id": "8530e47f-4290-42ef-a6b0-10570a36d67b",
   "metadata": {},
   "outputs": [
    {
     "name": "stdout",
     "output_type": "stream",
     "text": [
      "The following represents the most commonly occurring word and how many times in appears in the text:\n"
     ]
    },
    {
     "data": {
      "text/plain": [
       "('life', 5)"
      ]
     },
     "execution_count": 48,
     "metadata": {},
     "output_type": "execute_result"
    }
   ],
   "source": [
    "print(\"The following represents the most commonly occurring word and how many times in appears in the text:\")\n",
    "most_frequent_word(nlp=spacy.load('en_core_web_lg'), file_path=\"sample_text/test.txt\")"
   ]
  },
  {
   "cell_type": "markdown",
   "id": "5423ef21-9bb5-4fe5-ab08-4ec80ec94eeb",
   "metadata": {},
   "source": [
    "## `windowed_text_token_ratio()`"
   ]
  },
  {
   "cell_type": "markdown",
   "id": "949402f7-a929-4586-a09f-8840cc6dd333",
   "metadata": {},
   "source": [
    "This function takes in a natural language processor, filepath, and window size. It averages type token ratio across moving windows and returns this value. "
   ]
  },
  {
   "cell_type": "code",
   "execution_count": 50,
   "id": "6b6a9348-3e07-4c44-85e8-2e34817b19b3",
   "metadata": {},
   "outputs": [],
   "source": [
    "from lexical_variation import windowed_text_token_ratio"
   ]
  },
  {
   "cell_type": "code",
   "execution_count": 52,
   "id": "86e8c536-9f09-418d-9f3e-c6436267399e",
   "metadata": {},
   "outputs": [
    {
     "name": "stdout",
     "output_type": "stream",
     "text": [
      "The following represents the moving average text token ratio across 20 word windows in the document:\n"
     ]
    },
    {
     "data": {
      "text/plain": [
       "0.9238095238095237"
      ]
     },
     "execution_count": 52,
     "metadata": {},
     "output_type": "execute_result"
    }
   ],
   "source": [
    "print(\"The following represents the moving average text token ratio across 20 word windows in the document:\")\n",
    "windowed_text_token_ratio(nlp=spacy.load('en_core_web_lg'), file_path=\"sample_text/test.txt\", window_size=20)"
   ]
  },
  {
   "cell_type": "markdown",
   "id": "fcd2a189-e2c8-440b-976c-4b53ccfb9f4b",
   "metadata": {},
   "source": [
    "## `repeating_unique_word_ratio()`"
   ]
  },
  {
   "cell_type": "markdown",
   "id": "772a5299-f321-4d2d-9e9a-901a29b333f9",
   "metadata": {},
   "source": [
    "This function takes in a natural language processor and filepath. It calculates the ratio of repeating to unique words in the text and outputs this value."
   ]
  },
  {
   "cell_type": "code",
   "execution_count": 53,
   "id": "9dd79107-39f7-4e1a-b148-48f5e56a35cb",
   "metadata": {},
   "outputs": [],
   "source": [
    "from lexical_repetition import repeating_unique_word_ratio"
   ]
  },
  {
   "cell_type": "code",
   "execution_count": 55,
   "id": "e65f899d-d4e0-4713-a144-0ba59416a175",
   "metadata": {},
   "outputs": [
    {
     "name": "stdout",
     "output_type": "stream",
     "text": [
      "The following represents the proportion of repeating to unique words in the text:\n"
     ]
    },
    {
     "data": {
      "text/plain": [
       "0.07692307692307693"
      ]
     },
     "execution_count": 55,
     "metadata": {},
     "output_type": "execute_result"
    }
   ],
   "source": [
    "print(\"The following represents the proportion of repeating to unique words in the text:\")\n",
    "repeating_unique_word_ratio(nlp=spacy.load('en_core_web_lg'), file_path=\"sample_text/sample.txt\")"
   ]
  },
  {
   "cell_type": "markdown",
   "id": "cf9efda7-97cc-423c-82f0-ef1a3df33e73",
   "metadata": {},
   "source": [
    "## `incorrectly_followed_articles()`"
   ]
  },
  {
   "cell_type": "markdown",
   "id": "ad05aaff-b481-4d1c-9043-3d2cbc14785d",
   "metadata": {},
   "source": [
    "This function takes in a natural language processor and filepath. It calculates and returns the number of articles (a, and, the) that are not followed by an adjective, noun, or, proper noun. "
   ]
  },
  {
   "cell_type": "code",
   "execution_count": 56,
   "id": "d5e273e3-c362-4e7c-a294-7299a34297e3",
   "metadata": {},
   "outputs": [],
   "source": [
    "from syntactic_errors import incorrectly_followed_articles"
   ]
  },
  {
   "cell_type": "code",
   "execution_count": 60,
   "id": "676d5255-0a22-4cd1-b7f8-ab8667d11abb",
   "metadata": {},
   "outputs": [
    {
     "name": "stdout",
     "output_type": "stream",
     "text": [
      "The following represent the total number of articles in the text that are incorrectly followed:\n"
     ]
    },
    {
     "data": {
      "text/plain": [
       "1"
      ]
     },
     "execution_count": 60,
     "metadata": {},
     "output_type": "execute_result"
    }
   ],
   "source": [
    "print(\"The following represent the total number of articles in the text that are incorrectly followed:\")\n",
    "incorrectly_followed_articles(nlp=spacy.load('en_core_web_lg'), file_path=\"sample_text/test.txt\")"
   ]
  },
  {
   "cell_type": "markdown",
   "id": "9210eba7-c210-4137-b746-9c580191688a",
   "metadata": {},
   "source": [
    "## `dependency_tree_heights()`"
   ]
  },
  {
   "cell_type": "markdown",
   "id": "179e1d1e-5d67-4a15-80be-f7a3b8bf0f04",
   "metadata": {},
   "source": [
    "This function calls `tree_heights()` in `syntactic_complexity.py` and uses this function to return a list of all dependency tree heights in the text. "
   ]
  },
  {
   "cell_type": "code",
   "execution_count": 8,
   "id": "9276aa8c-64a8-47bf-98e8-b80eff19d2b3",
   "metadata": {},
   "outputs": [],
   "source": [
    "from syntactic_complexity import dependency_tree_heights"
   ]
  },
  {
   "cell_type": "code",
   "execution_count": 9,
   "id": "c799a6de-f88c-453b-837d-9770ebe4e94d",
   "metadata": {},
   "outputs": [
    {
     "name": "stdout",
     "output_type": "stream",
     "text": [
      "The following represents a list of dependency tree heights for all dependency trees in the text:\n"
     ]
    },
    {
     "data": {
      "text/plain": [
       "[6, 5, 8]"
      ]
     },
     "execution_count": 9,
     "metadata": {},
     "output_type": "execute_result"
    }
   ],
   "source": [
    "print(\"The following represents a list of dependency tree heights for all dependency trees in the text:\")\n",
    "dependency_tree_heights(nlp=(spacy.load('en_core_web_lg')), file_path=\"sample_text/sample.txt\")"
   ]
  },
  {
   "cell_type": "markdown",
   "id": "4255a3cb-2934-405b-a6f5-4c098a9984a2",
   "metadata": {},
   "source": [
    "## `ratio_of_nouns()`"
   ]
  },
  {
   "cell_type": "markdown",
   "id": "0972dcbe-8196-4dc1-845e-b7bc95d9858f",
   "metadata": {},
   "source": [
    "This functio calls `ratio_of_pos()` with specified kwargs to calculate and return the ration of nouns to total words."
   ]
  },
  {
   "cell_type": "code",
   "execution_count": 10,
   "id": "dfbfca95-2d08-482a-82de-8fba07d400e6",
   "metadata": {},
   "outputs": [],
   "source": [
    "from pos_tagging import ratio_of_nouns"
   ]
  },
  {
   "cell_type": "code",
   "execution_count": 11,
   "id": "018a5502-9a75-4128-be56-cb03aec9f5a4",
   "metadata": {},
   "outputs": [
    {
     "name": "stdout",
     "output_type": "stream",
     "text": [
      "The following represents the proportion of nouns to total words in the text:\n"
     ]
    },
    {
     "data": {
      "text/plain": [
       "0.19642857142857142"
      ]
     },
     "execution_count": 11,
     "metadata": {},
     "output_type": "execute_result"
    }
   ],
   "source": [
    "print(\"The following represents the proportion of nouns to total words in the text:\")\n",
    "ratio_of_nouns(nlp=spacy.load('en_core_web_lg'), file_path=\"sample_text/sample.txt\")"
   ]
  },
  {
   "cell_type": "markdown",
   "id": "859f0622-1410-4023-a8a5-6480b2336357",
   "metadata": {},
   "source": [
    "## `ratio_of_pronouns()`"
   ]
  },
  {
   "cell_type": "markdown",
   "id": "ff19aff8-8944-4f22-ad39-f1d8bbadd9c7",
   "metadata": {},
   "source": [
    "This functio calls `ratio_of_pos()` with specified kwargs to calculate and return the ration of pronouns to total words."
   ]
  },
  {
   "cell_type": "code",
   "execution_count": 12,
   "id": "b614f217-dae4-424a-b327-e4a1483d4038",
   "metadata": {},
   "outputs": [],
   "source": [
    "from pos_tagging import ratio_of_pronouns"
   ]
  },
  {
   "cell_type": "code",
   "execution_count": 13,
   "id": "4e0266a6-30bd-442c-b185-a2b5f3eaa36f",
   "metadata": {},
   "outputs": [
    {
     "name": "stdout",
     "output_type": "stream",
     "text": [
      "The following represents the proportion of pronouns to total words in the text:\n"
     ]
    },
    {
     "data": {
      "text/plain": [
       "0.17857142857142858"
      ]
     },
     "execution_count": 13,
     "metadata": {},
     "output_type": "execute_result"
    }
   ],
   "source": [
    "print(\"The following represents the proportion of pronouns to total words in the text:\")\n",
    "ratio_of_pronouns(nlp=spacy.load('en_core_web_lg'), file_path=\"sample_text/sample.txt\")"
   ]
  },
  {
   "cell_type": "markdown",
   "id": "040943bb-c2d3-4c15-b184-57f20ade5261",
   "metadata": {},
   "source": [
    "## `ratio_of_conjunctions()`"
   ]
  },
  {
   "cell_type": "markdown",
   "id": "834a1d95-b94c-4968-927c-2a2566ec2dd7",
   "metadata": {},
   "source": [
    "This function calls `ratio_of_pos()` with specified kwargs to calculate and return the ration of conjunctions to total words."
   ]
  },
  {
   "cell_type": "code",
   "execution_count": 14,
   "id": "44dc6d6f-9c89-4ab7-bad0-6ded9f770cf8",
   "metadata": {},
   "outputs": [],
   "source": [
    "from pos_tagging import ratio_of_conjunctions"
   ]
  },
  {
   "cell_type": "code",
   "execution_count": 15,
   "id": "9e942497-d898-40e1-ab3d-95cd6f9bfded",
   "metadata": {},
   "outputs": [
    {
     "name": "stdout",
     "output_type": "stream",
     "text": [
      "The following represents the proportion of conjunctions to total words in the text:\n"
     ]
    },
    {
     "data": {
      "text/plain": [
       "0.05357142857142857"
      ]
     },
     "execution_count": 15,
     "metadata": {},
     "output_type": "execute_result"
    }
   ],
   "source": [
    "print(\"The following represents the proportion of conjunctions to total words in the text:\")\n",
    "ratio_of_conjunctions(nlp=spacy.load('en_core_web_lg'), file_path=\"sample_text/sample.txt\")"
   ]
  },
  {
   "cell_type": "markdown",
   "id": "a13da00f-ce05-4476-beb1-9b719f3386ef",
   "metadata": {},
   "source": [
    "## `number_of_unique_tokens()`"
   ]
  },
  {
   "cell_type": "markdown",
   "id": "38368577-6206-49a4-847a-c22df1faf953",
   "metadata": {},
   "source": [
    "This function calculates and returns the number of unique tokens present in a text document."
   ]
  },
  {
   "cell_type": "code",
   "execution_count": 16,
   "id": "9a292618-15cd-48c7-982e-ee3ec2d05c1c",
   "metadata": {},
   "outputs": [],
   "source": [
    "from lexical_variation import number_of_unique_tokens"
   ]
  },
  {
   "cell_type": "code",
   "execution_count": 17,
   "id": "94132940-0df1-41d0-977a-b21b42a6671a",
   "metadata": {},
   "outputs": [
    {
     "name": "stdout",
     "output_type": "stream",
     "text": [
      "The following represents the number of unique tokens in the text:\n"
     ]
    },
    {
     "data": {
      "text/plain": [
       "56"
      ]
     },
     "execution_count": 17,
     "metadata": {},
     "output_type": "execute_result"
    }
   ],
   "source": [
    "print(f\"The following represents the number of unique tokens in the text:\")\n",
    "number_of_unique_tokens(nlp=spacy.load('en_core_web_lg'), file_path=\"sample_text/sample.txt\")"
   ]
  },
  {
   "cell_type": "markdown",
   "id": "0cb13561-1afc-4033-b317-11686b76aece",
   "metadata": {},
   "source": [
    "## `number_of_unique_lemmas()`"
   ]
  },
  {
   "cell_type": "markdown",
   "id": "a4efdc67-b983-4f0f-96da-0c0b2d8fabf4",
   "metadata": {},
   "source": [
    "This function calculates and returns the number of unique lemmas present in a text document."
   ]
  },
  {
   "cell_type": "code",
   "execution_count": 18,
   "id": "30b39cbc-f022-4009-b18f-d5ec994d4bf1",
   "metadata": {},
   "outputs": [],
   "source": [
    "from lexical_variation import number_of_unique_lemmas"
   ]
  },
  {
   "cell_type": "code",
   "execution_count": 19,
   "id": "84a74579-a49e-4678-9e7c-4b5191ad9579",
   "metadata": {},
   "outputs": [
    {
     "name": "stdout",
     "output_type": "stream",
     "text": [
      "The following represents the number of unique lemmas in the text:\n"
     ]
    },
    {
     "data": {
      "text/plain": [
       "52"
      ]
     },
     "execution_count": 19,
     "metadata": {},
     "output_type": "execute_result"
    }
   ],
   "source": [
    "print(f\"The following represents the number of unique lemmas in the text:\")\n",
    "number_of_unique_lemmas(nlp=spacy.load('en_core_web_lg'), file_path=\"sample_text/sample.txt\")"
   ]
  },
  {
   "cell_type": "markdown",
   "id": "4076d625-6454-46ab-89d5-3fd8cc045132",
   "metadata": {},
   "source": [
    "## `count_num_sentences_without_verbs()`"
   ]
  },
  {
   "cell_type": "markdown",
   "id": "e0e5f102-36a6-4652-b65c-adb135ade1fb",
   "metadata": {},
   "source": [
    "This function calculates and returns the number of sentences in the text that do not contain any verbs"
   ]
  },
  {
   "cell_type": "code",
   "execution_count": 20,
   "id": "b3b7d2be-1bf3-4bb0-8da6-74acc92a74ce",
   "metadata": {},
   "outputs": [],
   "source": [
    "from syntactic_errors import count_num_sentences_without_verbs"
   ]
  },
  {
   "cell_type": "code",
   "execution_count": 21,
   "id": "0e982836-f8d7-443b-a30f-fbabaceb90d0",
   "metadata": {},
   "outputs": [
    {
     "name": "stdout",
     "output_type": "stream",
     "text": [
      "The following represents the number of sentences without verbs:\n"
     ]
    },
    {
     "data": {
      "text/plain": [
       "0"
      ]
     },
     "execution_count": 21,
     "metadata": {},
     "output_type": "execute_result"
    }
   ],
   "source": [
    "print(f\"The following represents the number of sentences without verbs:\")\n",
    "count_num_sentences_without_verbs(nlp=spacy.load('en_core_web_lg'), file_path=\"sample_text/sample.txt\")"
   ]
  },
  {
   "cell_type": "markdown",
   "id": "ff60fa6f-f12c-45f3-8dd3-0e4045279f56",
   "metadata": {},
   "source": [
    "## `total_consecutive_words()`"
   ]
  },
  {
   "cell_type": "markdown",
   "id": "0019e026-8089-4bb4-8b58-60d1f97ed5c9",
   "metadata": {},
   "source": [
    "This function calculates and returns the number of consecutive repeating words in the text."
   ]
  },
  {
   "cell_type": "code",
   "execution_count": 22,
   "id": "4c74d37b-c46e-408f-a887-5c08d1c66875",
   "metadata": {},
   "outputs": [],
   "source": [
    "from lexical_repetition import total_consecutive_words"
   ]
  },
  {
   "cell_type": "code",
   "execution_count": 23,
   "id": "5a1140a6-054b-4b09-bac7-0ce288d0af3e",
   "metadata": {},
   "outputs": [
    {
     "name": "stdout",
     "output_type": "stream",
     "text": [
      "The following represents the total number of consecutive repeating words in the text:\n"
     ]
    },
    {
     "data": {
      "text/plain": [
       "0"
      ]
     },
     "execution_count": 23,
     "metadata": {},
     "output_type": "execute_result"
    }
   ],
   "source": [
    "print(f\"The following represents the total number of consecutive repeating words in the text:\")\n",
    "total_consecutive_words(nlp=spacy.load('en_core_web_lg'), file_path=\"sample_text/sample.txt\")"
   ]
  },
  {
   "cell_type": "markdown",
   "id": "5b4740c9-ccb6-4dbb-a65c-f3832b00af2b",
   "metadata": {},
   "source": [
    "## `stats_similarity_of_words()`"
   ]
  },
  {
   "cell_type": "markdown",
   "id": "f2bf2973-148a-4c11-acf9-0fa5b34c7753",
   "metadata": {},
   "source": [
    "This function takes in a natural language processor, file path, and window size(default 3). It returns dictionary containing mean, min,  max, and standard deviation of word similarity across all windows."
   ]
  },
  {
   "cell_type": "code",
   "execution_count": 24,
   "id": "1511b345-10a3-4ef8-b33e-633fefc9107f",
   "metadata": {},
   "outputs": [],
   "source": [
    "from similarity import stats_similarity_of_words"
   ]
  },
  {
   "cell_type": "code",
   "execution_count": 25,
   "id": "e7a9e37c-5185-4749-9c1a-625dad51444c",
   "metadata": {},
   "outputs": [
    {
     "name": "stdout",
     "output_type": "stream",
     "text": [
      "The following is a dictionary containing the mean, min, max and standard deviation of word similarity across moving windows:\n"
     ]
    },
    {
     "data": {
      "text/plain": [
       "{'mean': 0.4301234567901235,\n",
       " 'max': 0.7233333333333333,\n",
       " 'min': 0.013333333333333336,\n",
       " 'std': 0.1383596064509404}"
      ]
     },
     "execution_count": 25,
     "metadata": {},
     "output_type": "execute_result"
    }
   ],
   "source": [
    "print(f\"The following is a dictionary containing the mean, min, max and standard deviation of word similarity across moving windows:\")\n",
    "stats_similarity_of_words(nlp=spacy.load('en_core_web_lg'), file_path=\"sample_text/sample.txt\", window_size=3)"
   ]
  },
  {
   "cell_type": "markdown",
   "id": "0497bf8e-dcc7-4eb0-9db2-c7f5a6176080",
   "metadata": {},
   "source": [
    "## `mean_similarity_of_sentences()`"
   ]
  },
  {
   "cell_type": "markdown",
   "id": "11bc13e5-0892-47ca-9a3f-aee1b4a15e6a",
   "metadata": {},
   "source": [
    "This function takes in a natural language processor and a filepath. It calculates and returns the mean similarity of all combinations of sentences."
   ]
  },
  {
   "cell_type": "code",
   "execution_count": 26,
   "id": "88c0e316-cd04-49ea-903d-4968c98c9dcb",
   "metadata": {},
   "outputs": [],
   "source": [
    "from similarity import mean_similarity_of_sentences"
   ]
  },
  {
   "cell_type": "code",
   "execution_count": 27,
   "id": "bac8ba7f-8506-4396-be1b-60bcf060a86d",
   "metadata": {},
   "outputs": [
    {
     "name": "stdout",
     "output_type": "stream",
     "text": [
      "The following represents the mean similarity score of all combinations of sentences in the text:\n"
     ]
    },
    {
     "data": {
      "text/plain": [
       "0.89"
      ]
     },
     "execution_count": 27,
     "metadata": {},
     "output_type": "execute_result"
    }
   ],
   "source": [
    "print(f\"The following represents the mean similarity score of all combinations of sentences in the text:\")\n",
    "mean_similarity_of_sentences(nlp=spacy.load('en_core_web_lg'), file_path=\"sample_text/sample.txt\")"
   ]
  },
  {
   "cell_type": "markdown",
   "id": "0bce95a0-837e-4114-80a1-343211b14007",
   "metadata": {},
   "source": [
    "## `tf_idf()`"
   ]
  },
  {
   "cell_type": "markdown",
   "id": "9948737d-dc17-48aa-8491-016b8e6791e3",
   "metadata": {},
   "source": [
    "Takes in a natural language processor, filepath, document list and target string(term). It first calculates term frequency, which is defined as the frequency of a target string in a document. Then, it calculates inverse-document-frequency, which is defined as log10 of the number of documents divided by the number of documents containing the term. TF-IDF is calculated by multiplying these two values."
   ]
  },
  {
   "cell_type": "code",
   "execution_count": 28,
   "id": "c742e44a-9785-4134-b0a8-df9a93c41a4d",
   "metadata": {},
   "outputs": [],
   "source": [
    "from term_freq_inverse_doc_freq import tf_idf"
   ]
  },
  {
   "cell_type": "code",
   "execution_count": 32,
   "id": "f204ba20-a547-43ac-a395-47c499bb5a18",
   "metadata": {},
   "outputs": [
    {
     "name": "stdout",
     "output_type": "stream",
     "text": [
      "\n"
     ]
    },
    {
     "data": {
      "text/plain": [
       "0.0"
      ]
     },
     "execution_count": 32,
     "metadata": {},
     "output_type": "execute_result"
    }
   ],
   "source": [
    "print(f\"tf-idf of target string: 'life:'\")\n",
    "tf_idf(nlp=spacy.load('en_core_web_lg'), file_path=\"sample_text/test.txt\", document_list=[\"sample_text/sample.txt\", \"sample_text/test.txt\", \"sample_text/contains_nonwords.txt\"], term=\"life\")"
   ]
  }
 ],
 "metadata": {
  "kernelspec": {
   "display_name": "Python (.venv)",
   "language": "python",
   "name": "nlp-venv"
  },
  "language_info": {
   "codemirror_mode": {
    "name": "ipython",
    "version": 3
   },
   "file_extension": ".py",
   "mimetype": "text/x-python",
   "name": "python",
   "nbconvert_exporter": "python",
   "pygments_lexer": "ipython3",
   "version": "3.13.5"
  }
 },
 "nbformat": 4,
 "nbformat_minor": 5
}
