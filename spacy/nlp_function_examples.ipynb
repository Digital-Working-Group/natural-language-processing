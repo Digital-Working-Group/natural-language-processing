{
 "cells": [
  {
   "cell_type": "markdown",
   "id": "afb7f09b-7d4d-4a6e-9732-9fb561f71383",
   "metadata": {},
   "source": [
    "# Examples of NLP Features"
   ]
  },
  {
   "cell_type": "markdown",
   "id": "66c9f461-9de3-4309-8e6f-e627783a0895",
   "metadata": {},
   "source": [
    "This jupyter noteook contains example code to generate linguistic features with the functions in nlp_research.py"
   ]
  },
  {
   "cell_type": "markdown",
   "id": "4bac88e3-53c2-44ae-951e-4293fe369406",
   "metadata": {},
   "source": [
    "## `data_to_df()`"
   ]
  },
  {
   "cell_type": "markdown",
   "id": "60a5bc55-ac01-429d-a9ba-f03b2af8eb74",
   "metadata": {},
   "source": [
    "This function creates an easy way to access and visualize parts-of-speech tagging with spacy.\n",
    "The tags and values are stored in a pandas dataframe.\n",
    "Given a spacy pipeline and filepath, the function will output a dataframe showing parts-of-speech tags and their values."
   ]
  },
  {
   "cell_type": "code",
   "execution_count": 2,
   "id": "fdfbcb29-957d-418a-abd3-c65a6cba102b",
   "metadata": {},
   "outputs": [],
   "source": [
    "from nlp_functions import data_to_df"
   ]
  },
  {
   "cell_type": "code",
   "execution_count": 3,
   "id": "79a75c08-59e9-4d57-bb5f-6ca91293e0b7",
   "metadata": {},
   "outputs": [
    {
     "data": {
      "text/html": [
       "<div>\n",
       "<style scoped>\n",
       "    .dataframe tbody tr th:only-of-type {\n",
       "        vertical-align: middle;\n",
       "    }\n",
       "\n",
       "    .dataframe tbody tr th {\n",
       "        vertical-align: top;\n",
       "    }\n",
       "\n",
       "    .dataframe thead th {\n",
       "        text-align: right;\n",
       "    }\n",
       "</style>\n",
       "<table border=\"1\" class=\"dataframe\">\n",
       "  <thead>\n",
       "    <tr style=\"text-align: right;\">\n",
       "      <th></th>\n",
       "      <th>TEXT</th>\n",
       "      <th>LEMMA</th>\n",
       "      <th>POS</th>\n",
       "      <th>TAG</th>\n",
       "      <th>DEP</th>\n",
       "      <th>SHAPE</th>\n",
       "      <th>ALPHA</th>\n",
       "      <th>STOP</th>\n",
       "    </tr>\n",
       "  </thead>\n",
       "  <tbody>\n",
       "    <tr>\n",
       "      <th>0</th>\n",
       "      <td>You</td>\n",
       "      <td>you</td>\n",
       "      <td>PRON</td>\n",
       "      <td>PRP</td>\n",
       "      <td>nsubj</td>\n",
       "      <td>Xxx</td>\n",
       "      <td>True</td>\n",
       "      <td>True</td>\n",
       "    </tr>\n",
       "    <tr>\n",
       "      <th>1</th>\n",
       "      <td>know</td>\n",
       "      <td>know</td>\n",
       "      <td>VERB</td>\n",
       "      <td>VBP</td>\n",
       "      <td>parataxis</td>\n",
       "      <td>xxxx</td>\n",
       "      <td>True</td>\n",
       "      <td>False</td>\n",
       "    </tr>\n",
       "    <tr>\n",
       "      <th>2</th>\n",
       "      <td>,</td>\n",
       "      <td>,</td>\n",
       "      <td>PUNCT</td>\n",
       "      <td>,</td>\n",
       "      <td>punct</td>\n",
       "      <td>,</td>\n",
       "      <td>False</td>\n",
       "      <td>False</td>\n",
       "    </tr>\n",
       "    <tr>\n",
       "      <th>3</th>\n",
       "      <td>when</td>\n",
       "      <td>when</td>\n",
       "      <td>SCONJ</td>\n",
       "      <td>WRB</td>\n",
       "      <td>advmod</td>\n",
       "      <td>xxxx</td>\n",
       "      <td>True</td>\n",
       "      <td>True</td>\n",
       "    </tr>\n",
       "    <tr>\n",
       "      <th>4</th>\n",
       "      <td>I</td>\n",
       "      <td>I</td>\n",
       "      <td>PRON</td>\n",
       "      <td>PRP</td>\n",
       "      <td>nsubj</td>\n",
       "      <td>X</td>\n",
       "      <td>True</td>\n",
       "      <td>True</td>\n",
       "    </tr>\n",
       "    <tr>\n",
       "      <th>...</th>\n",
       "      <td>...</td>\n",
       "      <td>...</td>\n",
       "      <td>...</td>\n",
       "      <td>...</td>\n",
       "      <td>...</td>\n",
       "      <td>...</td>\n",
       "      <td>...</td>\n",
       "      <td>...</td>\n",
       "    </tr>\n",
       "    <tr>\n",
       "      <th>61</th>\n",
       "      <td>everyone</td>\n",
       "      <td>everyone</td>\n",
       "      <td>PRON</td>\n",
       "      <td>NN</td>\n",
       "      <td>nsubj</td>\n",
       "      <td>xxxx</td>\n",
       "      <td>True</td>\n",
       "      <td>True</td>\n",
       "    </tr>\n",
       "    <tr>\n",
       "      <th>62</th>\n",
       "      <td>knew</td>\n",
       "      <td>know</td>\n",
       "      <td>VERB</td>\n",
       "      <td>VBD</td>\n",
       "      <td>relcl</td>\n",
       "      <td>xxxx</td>\n",
       "      <td>True</td>\n",
       "      <td>False</td>\n",
       "    </tr>\n",
       "    <tr>\n",
       "      <th>63</th>\n",
       "      <td>your</td>\n",
       "      <td>your</td>\n",
       "      <td>PRON</td>\n",
       "      <td>PRP$</td>\n",
       "      <td>poss</td>\n",
       "      <td>xxxx</td>\n",
       "      <td>True</td>\n",
       "      <td>True</td>\n",
       "    </tr>\n",
       "    <tr>\n",
       "      <th>64</th>\n",
       "      <td>name</td>\n",
       "      <td>name</td>\n",
       "      <td>NOUN</td>\n",
       "      <td>NN</td>\n",
       "      <td>dobj</td>\n",
       "      <td>xxxx</td>\n",
       "      <td>True</td>\n",
       "      <td>True</td>\n",
       "    </tr>\n",
       "    <tr>\n",
       "      <th>65</th>\n",
       "      <td>.</td>\n",
       "      <td>.</td>\n",
       "      <td>PUNCT</td>\n",
       "      <td>.</td>\n",
       "      <td>punct</td>\n",
       "      <td>.</td>\n",
       "      <td>False</td>\n",
       "      <td>False</td>\n",
       "    </tr>\n",
       "  </tbody>\n",
       "</table>\n",
       "<p>66 rows × 8 columns</p>\n",
       "</div>"
      ],
      "text/plain": [
       "        TEXT     LEMMA    POS   TAG        DEP SHAPE  ALPHA   STOP\n",
       "0        You       you   PRON   PRP      nsubj   Xxx   True   True\n",
       "1       know      know   VERB   VBP  parataxis  xxxx   True  False\n",
       "2          ,         ,  PUNCT     ,      punct     ,  False  False\n",
       "3       when      when  SCONJ   WRB     advmod  xxxx   True   True\n",
       "4          I         I   PRON   PRP      nsubj     X   True   True\n",
       "..       ...       ...    ...   ...        ...   ...    ...    ...\n",
       "61  everyone  everyone   PRON    NN      nsubj  xxxx   True   True\n",
       "62      knew      know   VERB   VBD      relcl  xxxx   True  False\n",
       "63      your      your   PRON  PRP$       poss  xxxx   True   True\n",
       "64      name      name   NOUN    NN       dobj  xxxx   True   True\n",
       "65         .         .  PUNCT     .      punct     .  False  False\n",
       "\n",
       "[66 rows x 8 columns]"
      ]
     },
     "execution_count": 3,
     "metadata": {},
     "output_type": "execute_result"
    }
   ],
   "source": [
    "data_to_df(pipeline=\"en_core_web_lg\", file_path=\"sample.txt\")"
   ]
  },
  {
   "cell_type": "markdown",
   "id": "b9bb6b40-945c-4f82-abfd-63b209a398e4",
   "metadata": {},
   "source": [
    "## `tag_ratio()`"
   ]
  },
  {
   "cell_type": "markdown",
   "id": "6ed214b8-a2b4-496c-a92a-3650a0c8bbd1",
   "metadata": {},
   "source": [
    "This function allows the user to tag parts of speech of the tokens in their text.\n",
    "The function then creates and outputs a dictionary containing all instances of the categories and on average how many are present per 100 words in the text."
   ]
  },
  {
   "cell_type": "code",
   "execution_count": 5,
   "id": "6b026291-b82a-4e13-8daa-72e55b567930",
   "metadata": {},
   "outputs": [],
   "source": [
    "import spacy\n",
    "from nlp_functions import tag_ratio"
   ]
  },
  {
   "cell_type": "markdown",
   "id": "93e21328-597c-422a-bd40-519073c774d5",
   "metadata": {},
   "source": [
    "### Tagging parts-of-speech:"
   ]
  },
  {
   "cell_type": "code",
   "execution_count": 6,
   "id": "46a9471f-9e15-408a-a5cb-577116132b4d",
   "metadata": {},
   "outputs": [
    {
     "data": {
      "text/plain": [
       "{'POS': defaultdict(int,\n",
       "             {'PRON': 15.151515151515152,\n",
       "              'VERB': 13.636363636363635,\n",
       "              'PUNCT': 12.121212121212121,\n",
       "              'SCONJ': 4.545454545454546,\n",
       "              'ADV': 7.575757575757576,\n",
       "              'ADP': 9.090909090909092,\n",
       "              'NOUN': 15.151515151515152,\n",
       "              'AUX': 3.0303030303030303,\n",
       "              'ADJ': 6.0606060606060606,\n",
       "              'DET': 7.575757575757576,\n",
       "              'PROPN': 1.5151515151515151,\n",
       "              'PART': 1.5151515151515151,\n",
       "              'CCONJ': 1.5151515151515151,\n",
       "              'NUM': 1.5151515151515151}),\n",
       " 'TAG': defaultdict(int,\n",
       "             {'PRP': 9.090909090909092,\n",
       "              'VBP': 4.545454545454546,\n",
       "              ',': 7.575757575757576,\n",
       "              'WRB': 4.545454545454546,\n",
       "              'RB': 9.090909090909092,\n",
       "              'IN': 7.575757575757576,\n",
       "              'PRP$': 3.0303030303030303,\n",
       "              'NN': 12.121212121212121,\n",
       "              'VBZ': 1.5151515151515151,\n",
       "              'JJ': 6.0606060606060606,\n",
       "              'DT': 7.575757575757576,\n",
       "              'NNS': 4.545454545454546,\n",
       "              'VB': 1.5151515151515151,\n",
       "              'WP': 1.5151515151515151,\n",
       "              '.': 4.545454545454546,\n",
       "              'VBD': 6.0606060606060606,\n",
       "              'RP': 1.5151515151515151,\n",
       "              'VBN': 1.5151515151515151,\n",
       "              'NNP': 1.5151515151515151,\n",
       "              'VBG': 1.5151515151515151,\n",
       "              'CC': 1.5151515151515151,\n",
       "              'CD': 1.5151515151515151})}"
      ]
     },
     "execution_count": 6,
     "metadata": {},
     "output_type": "execute_result"
    }
   ],
   "source": [
    "tag_ratio(nlp=spacy.load('en_core_web_lg'), file_path=\"sample.txt\", amount=100)"
   ]
  },
  {
   "cell_type": "markdown",
   "id": "5c4e4129-8503-431e-81b8-b65da598b114",
   "metadata": {},
   "source": [
    "## `num_tense_inflected_verbs()`"
   ]
  },
  {
   "cell_type": "markdown",
   "id": "ce330ba7-9158-4f56-8cd7-9a3b64fe26f3",
   "metadata": {},
   "source": [
    "This function takes in a natural language processor, file_path, and per word amount. It loads the desired pipeline as a natural language processor and uses this to create a spacy doc object version of the file provided. \n",
    "The function then loops through the tokens in the text, filtered using `token.is_alpha` to ignore punctuation and digits. It calculates the ratio of tense inflected verbs to total words in the text, and outputs on average how many tense inflected verbs are present per specified word amount (by default: 100). \n",
    "Tense inflected verbs are considered to be verbs in past or present tense, and modal auxiliaries."
   ]
  },
  {
   "cell_type": "code",
   "execution_count": 7,
   "id": "80507272-78ec-4399-b4f9-7b3ed8e46d60",
   "metadata": {},
   "outputs": [],
   "source": [
    "from nlp_functions import num_tense_inflected_verbs"
   ]
  },
  {
   "cell_type": "code",
   "execution_count": 8,
   "id": "38e62c38-28a1-48a8-a9b3-09940500d921",
   "metadata": {},
   "outputs": [
    {
     "name": "stdout",
     "output_type": "stream",
     "text": [
      "The following represents the average number of tenseinflected verbs present per 100 words of the given text:\n"
     ]
    },
    {
     "data": {
      "text/plain": [
       "14.285714285714285"
      ]
     },
     "execution_count": 8,
     "metadata": {},
     "output_type": "execute_result"
    }
   ],
   "source": [
    "print(\"The following represents the average number of tenseinflected verbs present per 100 words of the given text:\")\n",
    "num_tense_inflected_verbs(nlp=spacy.load('en_core_web_lg'), file_path=\"sample.txt\", amount=100)"
   ]
  },
  {
   "cell_type": "markdown",
   "id": "f59ca49c-fda8-4ccd-a9ad-4db245c58224",
   "metadata": {},
   "source": [
    "## `calculate_idea_density()`"
   ]
  },
  {
   "cell_type": "markdown",
   "id": "56c53fe5-310c-4338-b71e-4822f4d98743",
   "metadata": {},
   "source": [
    "This function takes in an nlp and filepath and transforms into a spacy doc object, as before. The function then calculates and outputs the average idea density per sentence in the document. Idea density is defined as te number of propositions(verbs, adjectives, adverbs, prepositions, and conjunctions) divided by the number of words in a sentence."
   ]
  },
  {
   "cell_type": "code",
   "execution_count": 9,
   "id": "3df592c0-30ea-4cb5-bbee-2036463cbf67",
   "metadata": {},
   "outputs": [],
   "source": [
    "from nlp_functions import calculate_idea_density"
   ]
  },
  {
   "cell_type": "code",
   "execution_count": 11,
   "id": "7e6db0a2-e4e4-49d0-92c8-da3f14fc2f57",
   "metadata": {},
   "outputs": [
    {
     "name": "stdout",
     "output_type": "stream",
     "text": [
      "The following represents the average idea density per sentence in the given text:\n"
     ]
    },
    {
     "data": {
      "text/plain": [
       "[(\"You know, when I think back on my life, it's funny how the little things really shape who you become.\",\n",
       "  0.55),\n",
       " ('I grew up in this small town called Ridgewood, tucked away in the countryside.',\n",
       "  0.5714285714285714),\n",
       " (\"It wasn't much just rolling hills, a couple of farms, and one main street with a diner where everyone knew your name.\",\n",
       "  0.4090909090909091)]"
      ]
     },
     "execution_count": 11,
     "metadata": {},
     "output_type": "execute_result"
    }
   ],
   "source": [
    "print(\"The following represents the average idea density per sentence in the given text:\")\n",
    "calculate_idea_density(nlp=spacy.load('en_core_web_lg'), file_path=\"sample.txt\")"
   ]
  },
  {
   "cell_type": "markdown",
   "id": "1e87f737-d693-4f72-83ee-30becc17b10a",
   "metadata": {},
   "source": [
    "## `abstractness()`"
   ]
  },
  {
   "cell_type": "markdown",
   "id": "1b34a040-472d-4120-87e5-d2225b70319e",
   "metadata": {},
   "source": [
    "This function takes in an nlp,  a file path and a dataset path as inputs. It loads the prefered pipeline and turns the contents of the file into a spacy doc object. \n",
    "The function then calculates the average abstractness value of all words in the text, using the inverse of the concreteness value taken from the data set. This value is returned. \n",
    "The dataset values are on a five point scale, going from abstract to concrete. For the purpose of this feature, the scale is inverted. More details on the dataset please see [this article](https://link.springer.com/article/10.3758/s13428-013-0403-5#Sec10)"
   ]
  },
  {
   "cell_type": "code",
   "execution_count": 20,
   "id": "4cab56fa-48b9-469d-9066-8d8e41376e9f",
   "metadata": {},
   "outputs": [],
   "source": [
    "from nlp_functions import abstractness"
   ]
  },
  {
   "cell_type": "code",
   "execution_count": 28,
   "id": "f6860867-dfa1-4b13-8bb4-da14336aa4e6",
   "metadata": {},
   "outputs": [
    {
     "name": "stdout",
     "output_type": "stream",
     "text": [
      "The following represents the average abstractness value of all words in the text:\n"
     ]
    },
    {
     "ename": "NameError",
     "evalue": "name 'abstractness' is not defined",
     "output_type": "error",
     "traceback": [
      "\u001b[31m---------------------------------------------------------------------------\u001b[39m",
      "\u001b[31mNameError\u001b[39m                                 Traceback (most recent call last)",
      "\u001b[36mCell\u001b[39m\u001b[36m \u001b[39m\u001b[32mIn[28]\u001b[39m\u001b[32m, line 2\u001b[39m\n\u001b[32m      1\u001b[39m \u001b[38;5;28mprint\u001b[39m(\u001b[33m\"\u001b[39m\u001b[33mThe following represents the average abstractness value of all words in the text:\u001b[39m\u001b[33m\"\u001b[39m)\n\u001b[32m----> \u001b[39m\u001b[32m2\u001b[39m \u001b[43mabstractness\u001b[49m(nlp=spacy.load(\u001b[33m'\u001b[39m\u001b[33men_core_web_lg\u001b[39m\u001b[33m'\u001b[39m), file_path=\u001b[33m\"\u001b[39m\u001b[33msample.txt\u001b[39m\u001b[33m\"\u001b[39m, dataset_path=\u001b[33m\"\u001b[39m\u001b[33mdatasets/dataset_for_abstractness.xlsx\u001b[39m\u001b[33m\"\u001b[39m)\n",
      "\u001b[31mNameError\u001b[39m: name 'abstractness' is not defined"
     ]
    }
   ],
   "source": [
    "print(\"The following represents the average abstractness value of all words in the text:\")\n",
    "abstractness(nlp=spacy.load('en_core_web_lg'), file_path=\"sample.txt\", dataset_path=\"datasets/dataset_for_abstractness.xlsx\")"
   ]
  },
  {
   "cell_type": "markdown",
   "id": "9b8b56b2-1ef7-44e9-8ee0-687c8fe5c567",
   "metadata": {},
   "source": [
    "## `semantic_ambiguity()`"
   ]
  },
  {
   "cell_type": "markdown",
   "id": "85b061bf-e980-477d-855c-f2b340d99397",
   "metadata": {},
   "source": [
    "This function takes in an nlp, file path and a dataset path as inputs. It loads the prefered pipeline and turns the contents of the file into a spacy doc object. The function then calculates the average semantic ambiguity value for all words in the text using a semantic diversity value from a dataset.\n",
    "The dataset value is based on a measure that considers words that appear in a wide range of contexts on diverse topics more sematically diverse than those that appear in a restricted set of similar contexts. More details on the methods of calculation are present in [this article](https://link.springer.com/article/10.3758/s13428-012-0278-x#SecESM1)."
   ]
  },
  {
   "cell_type": "code",
   "execution_count": 14,
   "id": "8c7a1011-c551-4b30-bb34-740090e1d624",
   "metadata": {},
   "outputs": [],
   "source": [
    "from nlp_functions import semantic_ambiguity"
   ]
  },
  {
   "cell_type": "code",
   "execution_count": 18,
   "id": "bc7df882-75d7-4dd3-8445-baea58989712",
   "metadata": {},
   "outputs": [
    {
     "name": "stdout",
     "output_type": "stream",
     "text": [
      "The following represents the average semantic ambiguity value for all words in the provided text:\n"
     ]
    },
    {
     "data": {
      "text/plain": [
       "0.3134804578708375"
      ]
     },
     "execution_count": 18,
     "metadata": {},
     "output_type": "execute_result"
    }
   ],
   "source": [
    "print(\"The following represents the average semantic ambiguity value for all words in the provided text:\")\n",
    "semantic_ambiguity(nlp=spacy.load('en_core_web_lg'), file_path=\"sample.txt\", dataset_path=\"datasets/dataset_for_semantic_ambiguity.xlsx\")"
   ]
  },
  {
   "cell_type": "markdown",
   "id": "b51e54f9-be11-4429-87dd-4d2c5a5ad68a",
   "metadata": {},
   "source": [
    "## `word_frequency()`"
   ]
  },
  {
   "cell_type": "markdown",
   "id": "49b53573-e9dd-48d6-a16e-2cb90181cae9",
   "metadata": {},
   "source": [
    "This function takes in an nlp, a file path and a dataset path as inputs. It loads the prefered pipeline and turns the contents of the file into a spacy doc object. It calculates the word frequency value of each word using a dataset, and outputs the average value of all words. More details on the dataset values are present in [this article](https://link.springer.com/article/10.3758/BRM.41.4.977#SecESM1)."
   ]
  },
  {
   "cell_type": "code",
   "execution_count": 19,
   "id": "07829a30-8527-44b5-811a-c30b5905d7ab",
   "metadata": {},
   "outputs": [],
   "source": [
    "from nlp_functions import word_frequency"
   ]
  },
  {
   "cell_type": "code",
   "execution_count": 20,
   "id": "3c4ef2b4-04e6-4e5a-8278-d11c8d5542b7",
   "metadata": {},
   "outputs": [
    {
     "name": "stdout",
     "output_type": "stream",
     "text": [
      "the following represents the average word frequency value across all words in the given text:\n"
     ]
    },
    {
     "data": {
      "text/plain": [
       "0.641867548337011"
      ]
     },
     "execution_count": 20,
     "metadata": {},
     "output_type": "execute_result"
    }
   ],
   "source": [
    "print(\"the following represents the average word frequency value across all words in the given text:\")\n",
    "word_frequency(nlp=spacy.load('en_core_web_lg'), file_path=\"sample.txt\", dataset_path=\"datasets/dataset_for_word_frequency.xlsx\")"
   ]
  },
  {
   "cell_type": "markdown",
   "id": "43deb445-44b8-497a-b4ea-124dc35c8a98",
   "metadata": {},
   "source": [
    "## `word_prevalence()`"
   ]
  },
  {
   "cell_type": "markdown",
   "id": "79d4824a-f32c-4056-8f1e-07b31c092f2d",
   "metadata": {},
   "source": [
    "This function takes in an nlp, a file path and a datset path as inputs. It loads the prefered pipeline and turns the contents of the file into a spacy doc object. The function calculates the average word prevalence value across all words in the text and returns the result. The word prevalence values are extracted from a datset. More information on them can be found in [this article](https://link.springer.com/article/10.3758/s13428-018-1077-9#Sec9)."
   ]
  },
  {
   "cell_type": "code",
   "execution_count": 16,
   "id": "5d85085c-b606-4a09-b254-3457a5c64309",
   "metadata": {},
   "outputs": [],
   "source": [
    "from nlp_functions import word_prevalence"
   ]
  },
  {
   "cell_type": "code",
   "execution_count": 21,
   "id": "ba1b4ca5-65d4-4812-b825-28ef3b660fbf",
   "metadata": {},
   "outputs": [
    {
     "name": "stdout",
     "output_type": "stream",
     "text": [
      "The following represents the average word prevalence value across all words in the text:\n"
     ]
    },
    {
     "data": {
      "text/plain": [
       "0.4249447629308993"
      ]
     },
     "execution_count": 21,
     "metadata": {},
     "output_type": "execute_result"
    }
   ],
   "source": [
    "print(\"The following represents the average word prevalence value across all words in the text:\")\n",
    "word_prevalence(nlp=spacy.load('en_core_web_lg'), file_path=\"sample.txt\", dataset_path=\"datasets/dataset_for_word_prevalence_and_familiarity.xlsx\")"
   ]
  },
  {
   "cell_type": "markdown",
   "id": "db4b22db-f092-49b7-9577-138296e0a83b",
   "metadata": {},
   "source": [
    "## `word_familiarity()`"
   ]
  },
  {
   "cell_type": "markdown",
   "id": "bcb6a167-d010-4979-b3f7-3dffa544dd7b",
   "metadata": {},
   "source": [
    "This function takes in an nlp, a file path and a dataset path as inputs. It loads the prefered pipeline and turns the contents of the file into a spacy doc object. The function calculates the average word familiarity across all words in the text and returns the result. The word familiarity values are taken from a dataset, in which they are calculated based on a z standardized measure of how many people know the word. More information on these values can be found in [this article](https://link.springer.com/article/10.3758/s13428-018-1077-9#Sec9)."
   ]
  },
  {
   "cell_type": "code",
   "execution_count": 22,
   "id": "45f26d96-faed-457e-b377-07a0c9e56c72",
   "metadata": {},
   "outputs": [],
   "source": [
    "from nlp_functions import word_familiarity"
   ]
  },
  {
   "cell_type": "code",
   "execution_count": 24,
   "id": "6af8f33e-6625-40ab-b82a-345aff5425cf",
   "metadata": {},
   "outputs": [
    {
     "name": "stdout",
     "output_type": "stream",
     "text": [
      "The following represents the average word familiarity value across all words in the given text:\n"
     ]
    },
    {
     "data": {
      "text/plain": [
       "0.177838994634659"
      ]
     },
     "execution_count": 24,
     "metadata": {},
     "output_type": "execute_result"
    }
   ],
   "source": [
    "print(\"The following represents the average word familiarity value across all words in the given text:\")\n",
    "word_familiarity(nlp=spacy.load('en_core_web_lg'), file_path=\"sample.txt\", dataset_path=\"datasets/dataset_for_word_prevalence_and_familiarity.xlsx\")"
   ]
  },
  {
   "cell_type": "markdown",
   "id": "88a804fb-5edd-4028-8a68-28c209cf6562",
   "metadata": {},
   "source": [
    "## `age_of_acquisition()`"
   ]
  },
  {
   "cell_type": "markdown",
   "id": "cb335f51-a9d1-4fed-9265-6e83208755a1",
   "metadata": {},
   "source": [
    "This function takes in an nlp, a file path and a dataset path as inputs. It loads the prefered pipeline, and turns the contents of the file into a spacy doc object. The function calculates and returns the average age of acquisition value across all words in the text. This is a measure of semantic complexity, with a higher age of acquisition representing more complex language. The value is taken from a dataset, more information on this value can be found in [this article](https://link.springer.com/article/10.3758/s13428-018-1077-9)."
   ]
  },
  {
   "cell_type": "code",
   "execution_count": 25,
   "id": "25f99c53-e32e-4555-bb72-42edafac4507",
   "metadata": {},
   "outputs": [],
   "source": [
    "from nlp_functions import age_of_acquisition"
   ]
  },
  {
   "cell_type": "code",
   "execution_count": 26,
   "id": "cb293dbb-7d66-477c-8b8c-e9e636c2436d",
   "metadata": {},
   "outputs": [
    {
     "name": "stdout",
     "output_type": "stream",
     "text": [
      "The following represents the average age of aquisition value across all words in the text:\n"
     ]
    },
    {
     "data": {
      "text/plain": [
       "0.9691179896458826"
      ]
     },
     "execution_count": 26,
     "metadata": {},
     "output_type": "execute_result"
    }
   ],
   "source": [
    "print(\"The following represents the average age of aquisition value across all words in the text:\")\n",
    "age_of_acquisition(nlp=spacy.load('en_core_web_lg'), file_path=\"sample.txt\", dataset_path=\"datasets/dataset_for_age_of_acquisition.xlsx\")"
   ]
  },
  {
   "cell_type": "code",
   "execution_count": null,
   "id": "13084a54-b9aa-40e9-9395-be636da83abb",
   "metadata": {},
   "outputs": [],
   "source": []
  }
 ],
 "metadata": {
  "kernelspec": {
   "display_name": "Python (NLP venv)",
   "language": "python",
   "name": "nlp-venv"
  },
  "language_info": {
   "codemirror_mode": {
    "name": "ipython",
    "version": 3
   },
   "file_extension": ".py",
   "mimetype": "text/x-python",
   "name": "python",
   "nbconvert_exporter": "python",
   "pygments_lexer": "ipython3",
   "version": "3.13.5"
  }
 },
 "nbformat": 4,
 "nbformat_minor": 5
}
